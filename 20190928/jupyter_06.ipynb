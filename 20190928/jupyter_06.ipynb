{
 "cells": [
  {
   "cell_type": "markdown",
   "metadata": {},
   "source": [
    "# 2019-09-28\n",
    "\n",
    "1. 클래스\n",
    "2. 정규표현식 --> pandas\n",
    "3. HTML 분석\n",
    "4. 크롤링\n",
    "\n",
    "***\n",
    "\n",
    "### - HTML(Hyper Text Markup Language)\n",
    "+ 링크로 연결된 텍스트 페이지  \n",
    "+ 자유롭게 이동이 가능하다.  \n",
    "+ 웹페이지를 구성한다. -> HTML(뼈대), CSS(옷), Javasript(특수기능)\n",
    "\n",
    "\n"
   ]
  },
  {
   "cell_type": "code",
   "execution_count": null,
   "metadata": {},
   "outputs": [],
   "source": []
  },
  {
   "cell_type": "code",
   "execution_count": null,
   "metadata": {},
   "outputs": [],
   "source": []
  }
 ],
 "metadata": {
  "kernelspec": {
   "display_name": "Python 3",
   "language": "python",
   "name": "python3"
  },
  "language_info": {
   "codemirror_mode": {
    "name": "ipython",
    "version": 3
   },
   "file_extension": ".py",
   "mimetype": "text/x-python",
   "name": "python",
   "nbconvert_exporter": "python",
   "pygments_lexer": "ipython3",
   "version": "3.7.4"
  }
 },
 "nbformat": 4,
 "nbformat_minor": 2
}
