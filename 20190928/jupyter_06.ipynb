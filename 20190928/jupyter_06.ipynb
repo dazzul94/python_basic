{
 "cells": [
  {
   "cell_type": "markdown",
   "metadata": {},
   "source": [
    "# 2019-09-28\n",
    "\n",
    "1. 클래스\n",
    "2. 정규표현식 --> pandas\n",
    "3. HTML 분석\n",
    "4. 크롤링\n",
    "\n",
    "***\n",
    "\n",
    "### - HTML(Hyper Text Markup Language)\n",
    "+ 링크로 연결된 텍스트 페이지  \n",
    "+ 자유롭게 이동이 가능하다.  \n",
    "+ 웹페이지를 구성한다. -> HTML(뼈대), CSS(옷), Javasript(특수기능)"
   ]
  },
  {
   "cell_type": "code",
   "execution_count": 15,
   "metadata": {},
   "outputs": [
    {
     "name": "stdout",
     "output_type": "stream",
     "text": [
      "h1=스크레이핑이란?\n"
     ]
    }
   ],
   "source": [
    "from bs4 import BeautifulSoup\n",
    "# 분석하고 싶은 HTML 코드\n",
    "html1= '''\n",
    "<html>\n",
    "    <body>\n",
    "        <h1>스크레이핑이란?</h1>\n",
    "        <p>웹 페이지를 분석하는 것</p>\n",
    "        <p>원하는 부분을 추출하는 것</p>\n",
    "    </body>\n",
    "</html>\n",
    "'''\n",
    "html2 = 'C://Users/dazzul/Documents/GitHub/python_basic/20190928/bs4.html'\n",
    "\n",
    "# HTML 분석하기\n",
    "soup = BeautifulSoup(open(html2,encoding='utf8'), 'html.parser', )\n",
    "\n",
    "# 원하는 부분 선택하여 출력하기\n",
    "h1 = soup.html.body.h1\n",
    "\n",
    "#선택된요소에서 글자 추출\n",
    "print(\"h1=\"+h1.string)\n"
   ]
  },
  {
   "cell_type": "code",
   "execution_count": null,
   "metadata": {},
   "outputs": [],
   "source": [
    "### 첫번째 p태그 가져오기"
   ]
  },
  {
   "cell_type": "code",
   "execution_count": null,
   "metadata": {},
   "outputs": [],
   "source": [
    "from bs4 import BeautifulSoup\n",
    "# 분석하고 싶은 HTML 코드\n",
    "html1= '''\n",
    "<html>\n",
    "    <body>\n",
    "        <h1>스크레이핑이란?</h1>\n",
    "        <p>웹 페이지를 분석하는 것</p>\n",
    "        <p>원하는 부분을 추출하는 것</p>\n",
    "    </body>\n",
    "</html>\n",
    "'''\n",
    "html2 = 'C://Users/dazzul/Documents/GitHub/python_basic/20190928/bs4.html'\n",
    "\n",
    "# HTML 분석하기\n",
    "soup = BeautifulSoup(open(html2,encoding='utf8'), 'html.parser', )\n",
    "\n",
    "# 원하는 부분 선택하여 출력하기\n",
    "h1 = soup.html.body.h1\n",
    "\n",
    "#선택된요소에서 글자 추출\n",
    "print(\"h1=\"+h1.string)\n"
   ]
  }
 ],
 "metadata": {
  "kernelspec": {
   "display_name": "Python 3",
   "language": "python",
   "name": "python3"
  },
  "language_info": {
   "codemirror_mode": {
    "name": "ipython",
    "version": 3
   },
   "file_extension": ".py",
   "mimetype": "text/x-python",
   "name": "python",
   "nbconvert_exporter": "python",
   "pygments_lexer": "ipython3",
   "version": "3.7.4"
  }
 },
 "nbformat": 4,
 "nbformat_minor": 2
}
