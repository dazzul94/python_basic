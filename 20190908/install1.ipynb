{
 "cells": [
  {
   "cell_type": "code",
   "execution_count": 8,
   "metadata": {},
   "outputs": [
    {
     "name": "stdout",
     "output_type": "stream",
     "text": [
      "Requirement already satisfied: pandas in c:\\users\\dazzul\\appdata\\local\\programs\\python\\python37\\lib\\site-packages (0.25.1)\n",
      "Requirement already satisfied: numpy>=1.13.3 in c:\\users\\dazzul\\appdata\\local\\programs\\python\\python37\\lib\\site-packages (from pandas) (1.17.2)\n",
      "Requirement already satisfied: python-dateutil>=2.6.1 in c:\\users\\dazzul\\appdata\\local\\programs\\python\\python37\\lib\\site-packages (from pandas) (2.8.0)\n",
      "Requirement already satisfied: pytz>=2017.2 in c:\\users\\dazzul\\appdata\\local\\programs\\python\\python37\\lib\\site-packages (from pandas) (2019.2)\n",
      "Requirement already satisfied: six>=1.5 in c:\\users\\dazzul\\appdata\\local\\programs\\python\\python37\\lib\\site-packages (from python-dateutil>=2.6.1->pandas) (1.12.0)\n"
     ]
    }
   ],
   "source": [
    "!pip install pandas"
   ]
  },
  {
   "cell_type": "code",
   "execution_count": 5,
   "metadata": {},
   "outputs": [
    {
     "name": "stdout",
     "output_type": "stream",
     "text": [
      "Requirement already satisfied: xlrd in c:\\users\\dazzul\\appdata\\local\\programs\\python\\python37\\lib\\site-packages (1.2.0)\n"
     ]
    }
   ],
   "source": [
    "!pip install xlrd"
   ]
  },
  {
   "cell_type": "code",
   "execution_count": 6,
   "metadata": {},
   "outputs": [
    {
     "name": "stdout",
     "output_type": "stream",
     "text": [
      "Requirement already satisfied: xlsxwriter in c:\\users\\dazzul\\appdata\\local\\programs\\python\\python37\\lib\\site-packages (1.2.0)\n"
     ]
    }
   ],
   "source": [
    "!pip install xlsxwriter"
   ]
  },
  {
   "cell_type": "code",
   "execution_count": 7,
   "metadata": {},
   "outputs": [
    {
     "name": "stdout",
     "output_type": "stream",
     "text": [
      "Requirement already satisfied: matplotlib in c:\\users\\dazzul\\appdata\\local\\programs\\python\\python37\\lib\\site-packages (3.1.1)\n",
      "Requirement already satisfied: cycler>=0.10 in c:\\users\\dazzul\\appdata\\local\\programs\\python\\python37\\lib\\site-packages (from matplotlib) (0.10.0)\n",
      "Requirement already satisfied: python-dateutil>=2.1 in c:\\users\\dazzul\\appdata\\local\\programs\\python\\python37\\lib\\site-packages (from matplotlib) (2.8.0)\n",
      "Requirement already satisfied: kiwisolver>=1.0.1 in c:\\users\\dazzul\\appdata\\local\\programs\\python\\python37\\lib\\site-packages (from matplotlib) (1.1.0)\n",
      "Requirement already satisfied: pyparsing!=2.0.4,!=2.1.2,!=2.1.6,>=2.0.1 in c:\\users\\dazzul\\appdata\\local\\programs\\python\\python37\\lib\\site-packages (from matplotlib) (2.4.2)\n",
      "Requirement already satisfied: numpy>=1.11 in c:\\users\\dazzul\\appdata\\local\\programs\\python\\python37\\lib\\site-packages (from matplotlib) (1.17.2)\n",
      "Requirement already satisfied: six in c:\\users\\dazzul\\appdata\\local\\programs\\python\\python37\\lib\\site-packages (from cycler>=0.10->matplotlib) (1.12.0)\n",
      "Requirement already satisfied: setuptools in c:\\users\\dazzul\\appdata\\local\\programs\\python\\python37\\lib\\site-packages (from kiwisolver>=1.0.1->matplotlib) (40.8.0)\n"
     ]
    }
   ],
   "source": [
    "!pip install matplotlib"
   ]
  },
  {
   "cell_type": "code",
   "execution_count": 9,
   "metadata": {},
   "outputs": [
    {
     "name": "stdout",
     "output_type": "stream",
     "text": [
      "Package            Version\n",
      "------------------ -------\n",
      "attrs              19.1.0 \n",
      "backcall           0.1.0  \n",
      "beautifulsoup4     4.8.0  \n",
      "bleach             3.1.0  \n",
      "bs4                0.0.1  \n",
      "colorama           0.4.1  \n",
      "cycler             0.10.0 \n",
      "decorator          4.4.0  \n",
      "defusedxml         0.6.0  \n",
      "Django             2.2.4  \n",
      "entrypoints        0.3    \n",
      "ipykernel          5.1.2  \n",
      "ipython            7.7.0  \n",
      "ipython-genutils   0.2.0  \n",
      "ipywidgets         7.5.1  \n",
      "jedi               0.15.1 \n",
      "Jinja2             2.10.1 \n",
      "jsonschema         3.0.2  \n",
      "jupyter            1.0.0  \n",
      "jupyter-client     5.3.1  \n",
      "jupyter-console    6.0.0  \n",
      "jupyter-core       4.5.0  \n",
      "kiwisolver         1.1.0  \n",
      "MarkupSafe         1.1.1  \n",
      "matplotlib         3.1.1  \n",
      "mistune            0.8.4  \n",
      "mysqlclient        1.4.4  \n",
      "nbconvert          5.6.0  \n",
      "nbformat           4.4.0  \n",
      "notebook           6.0.1  \n",
      "numpy              1.17.2 \n",
      "pandas             0.25.1 \n",
      "pandocfilters      1.4.2  \n",
      "parso              0.5.1  \n",
      "pickleshare        0.7.5  \n",
      "pip                19.2.3 \n",
      "prometheus-client  0.7.1  \n",
      "prompt-toolkit     2.0.9  \n",
      "Pygments           2.4.2  \n",
      "pyparsing          2.4.2  \n",
      "pyrsistent         0.15.4 \n",
      "python-dateutil    2.8.0  \n",
      "pytz               2019.2 \n",
      "pywinpty           0.5.5  \n",
      "pyzmq              18.1.0 \n",
      "qtconsole          4.5.4  \n",
      "Send2Trash         1.5.0  \n",
      "setuptools         40.8.0 \n",
      "six                1.12.0 \n",
      "soupsieve          1.9.3  \n",
      "sqlparse           0.3.0  \n",
      "terminado          0.8.2  \n",
      "testpath           0.4.2  \n",
      "tornado            6.0.3  \n",
      "traitlets          4.3.2  \n",
      "wcwidth            0.1.7  \n",
      "webencodings       0.5.1  \n",
      "widgetsnbextension 3.5.1  \n",
      "xlrd               1.2.0  \n",
      "XlsxWriter         1.2.0  \n",
      "Note: you may need to restart the kernel to use updated packages.\n"
     ]
    }
   ],
   "source": [
    "pip list"
   ]
  },
  {
   "cell_type": "code",
   "execution_count": null,
   "metadata": {},
   "outputs": [],
   "source": []
  }
 ],
 "metadata": {
  "kernelspec": {
   "display_name": "Python 3",
   "language": "python",
   "name": "python3"
  },
  "language_info": {
   "codemirror_mode": {
    "name": "ipython",
    "version": 3
   },
   "file_extension": ".py",
   "mimetype": "text/x-python",
   "name": "python",
   "nbconvert_exporter": "python",
   "pygments_lexer": "ipython3",
   "version": "3.7.4"
  }
 },
 "nbformat": 4,
 "nbformat_minor": 2
}
