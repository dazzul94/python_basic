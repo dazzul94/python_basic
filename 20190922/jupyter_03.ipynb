{
 "cells": [
  {
   "cell_type": "markdown",
   "metadata": {},
   "source": [
    "### - 다음 로그인 "
   ]
  },
  {
   "cell_type": "code",
   "execution_count": 2,
   "metadata": {},
   "outputs": [],
   "source": [
    "from selenium import webdriver"
   ]
  },
  {
   "cell_type": "code",
   "execution_count": 3,
   "metadata": {},
   "outputs": [],
   "source": [
    "# 다음 띄우기\n",
    "driver = webdriver.Chrome('C://Users/dazzul/Desktop/새 폴더/더조은/chromedriver')\n",
    "driver.get('https://daum.net') "
   ]
  },
  {
   "cell_type": "code",
   "execution_count": 4,
   "metadata": {},
   "outputs": [],
   "source": [
    "# 로그인 창으로 이동\n",
    "xpath = '''//*[@id=\"inner_login\"]/a[1]'''\n",
    "driver.find_element_by_xpath(xpath).click() # Copy Xpath"
   ]
  },
  {
   "cell_type": "code",
   "execution_count": 7,
   "metadata": {},
   "outputs": [],
   "source": [
    "# 아이디, 비밀번호 입력\n",
    "elem_login = driver.find_element_by_id('id')\n",
    "elem_login.clear()\n",
    "elem_login.send_keys('아이디')\n",
    "\n",
    "elem_login = driver.find_element_by_id('inputPwd')\n",
    "elem_login.clear()\n",
    "elem_login.send_keys('비밀번호')"
   ]
  },
  {
   "cell_type": "code",
   "execution_count": 8,
   "metadata": {},
   "outputs": [],
   "source": [
    "# 로그인 창으로 이동\n",
    "xpath = '''//*[@id=\"loginBtn\"]'''\n",
    "driver.find_element_by_xpath(xpath).click() # Copy Xpath"
   ]
  },
  {
   "cell_type": "code",
   "execution_count": null,
   "metadata": {},
   "outputs": [],
   "source": []
  }
 ],
 "metadata": {
  "kernelspec": {
   "display_name": "Python 3",
   "language": "python",
   "name": "python3"
  },
  "language_info": {
   "codemirror_mode": {
    "name": "ipython",
    "version": 3
   },
   "file_extension": ".py",
   "mimetype": "text/x-python",
   "name": "python",
   "nbconvert_exporter": "python",
   "pygments_lexer": "ipython3",
   "version": "3.7.4"
  }
 },
 "nbformat": 4,
 "nbformat_minor": 2
}
