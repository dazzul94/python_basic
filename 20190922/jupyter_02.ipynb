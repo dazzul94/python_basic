{
 "cells": [
  {
   "cell_type": "markdown",
   "metadata": {},
   "source": [
    "# 2019-09-22\n",
    "### - 구글 드라이버 설치(내 크롬정보와 맞는 버전의 드라이버를 설치한다.)    \n",
    "- https://chromedriver.storage.googleapis.com/index.html\n",
    "\n",
    "### - 네이버 자동로그인\n",
    "* 로그인 버튼의 요소검사\n",
    "    + Copy Selector: #account > div > a > i  \n",
    "    + Copy Xpath: //*[@id=\"account\"]/div/a/i  "
   ]
  },
  {
   "cell_type": "code",
   "execution_count": 2,
   "metadata": {},
   "outputs": [
    {
     "name": "stdout",
     "output_type": "stream",
     "text": [
      "Collecting selenium==3.0\n",
      "  Downloading https://files.pythonhosted.org/packages/68/a4/2c4f71562d3da860c4945831065915778a96742b1a11b70a93b73112387c/selenium-3.0.0-py2.py3-none-any.whl (913kB)\n",
      "Installing collected packages: selenium\n",
      "Successfully installed selenium-3.0.0\n"
     ]
    }
   ],
   "source": [
    "!pip install selenium==3.0"
   ]
  },
  {
   "cell_type": "code",
   "execution_count": 3,
   "metadata": {},
   "outputs": [],
   "source": [
    "from selenium import webdriver"
   ]
  },
  {
   "cell_type": "code",
   "execution_count": 12,
   "metadata": {},
   "outputs": [
    {
     "data": {
      "text/plain": [
       "True"
      ]
     },
     "execution_count": 12,
     "metadata": {},
     "output_type": "execute_result"
    }
   ],
   "source": [
    "# 네이버 띄우기\n",
    "driver = webdriver.Chrome('C://Users/dazzul/Desktop/새 폴더/더조은/chromedriver')\n",
    "driver.get('https://naver.com')\n",
    "driver.save_screenshot('sel1.png')"
   ]
  },
  {
   "cell_type": "code",
   "execution_count": 13,
   "metadata": {},
   "outputs": [],
   "source": [
    "# 로그인 창으로 이동\n",
    "xpath = '''//*[@id=\"account\"]/div/a/i'''\n",
    "driver.find_element_by_xpath(xpath).click()"
   ]
  },
  {
   "cell_type": "code",
   "execution_count": null,
   "metadata": {},
   "outputs": [],
   "source": []
  }
 ],
 "metadata": {
  "kernelspec": {
   "display_name": "Python 3",
   "language": "python",
   "name": "python3"
  },
  "language_info": {
   "codemirror_mode": {
    "name": "ipython",
    "version": 3
   },
   "file_extension": ".py",
   "mimetype": "text/x-python",
   "name": "python",
   "nbconvert_exporter": "python",
   "pygments_lexer": "ipython3",
   "version": "3.7.4"
  }
 },
 "nbformat": 4,
 "nbformat_minor": 2
}
