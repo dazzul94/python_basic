{
 "cells": [
  {
   "cell_type": "code",
   "execution_count": 2,
   "metadata": {},
   "outputs": [
    {
     "data": {
      "text/plain": [
       "True"
      ]
     },
     "execution_count": 2,
     "metadata": {},
     "output_type": "execute_result"
    }
   ],
   "source": [
    "import webbrowser\n",
    "url = 'www.naver.com'\n",
    "webbrowser.open(url)"
   ]
  },
  {
   "cell_type": "code",
   "execution_count": 3,
   "metadata": {},
   "outputs": [
    {
     "data": {
      "text/plain": [
       "'C:\\\\Users\\\\dazzul\\\\Documents\\\\GitHub\\\\python_basic\\\\20190831'"
      ]
     },
     "execution_count": 3,
     "metadata": {},
     "output_type": "execute_result"
    }
   ],
   "source": [
    "%pwd"
   ]
  },
  {
   "cell_type": "code",
   "execution_count": 4,
   "metadata": {},
   "outputs": [
    {
     "data": {
      "text/plain": [
       "True"
      ]
     },
     "execution_count": 4,
     "metadata": {},
     "output_type": "execute_result"
    }
   ],
   "source": [
    "import webbrowser\n",
    "url = 'www.google.com'\n",
    "webbrowser.open(url)"
   ]
  },
  {
   "cell_type": "code",
   "execution_count": 5,
   "metadata": {},
   "outputs": [
    {
     "data": {
      "text/plain": [
       "True"
      ]
     },
     "execution_count": 5,
     "metadata": {},
     "output_type": "execute_result"
    }
   ],
   "source": [
    "import webbrowser\n",
    "naver_search_url = \"https://search.naver.com/search.naver?sm=top_hty&fbm=0&ie=utf8&query=\"\n",
    "search_word = \"추석\"\n",
    "\n",
    "url = naver_search_url + search_word\n",
    "\n",
    "webbrowser.open(url)"
   ]
  },
  {
   "cell_type": "code",
   "execution_count": 6,
   "metadata": {},
   "outputs": [
    {
     "data": {
      "text/plain": [
       "True"
      ]
     },
     "execution_count": 6,
     "metadata": {},
     "output_type": "execute_result"
    }
   ],
   "source": [
    "import webbrowser\n",
    "naver_search_url = \"https://search.naver.com/search.naver?sm=top_hty&fbm=0&ie=utf8&query=\"\n",
    "search_word = \"추석\"\n",
    "\n",
    "url = naver_search_url + search_word\n",
    "\n",
    "webbrowser.open_new(url)"
   ]
  },
  {
   "cell_type": "code",
   "execution_count": 7,
   "metadata": {},
   "outputs": [
    {
     "data": {
      "text/plain": [
       "True"
      ]
     },
     "execution_count": 7,
     "metadata": {},
     "output_type": "execute_result"
    }
   ],
   "source": [
    "import webbrowser\n",
    "naver_search_url = \"https://search.naver.com/search.naver?sm=top_hty&fbm=0&ie=utf8&query=\"\n",
    "search_word = \"이천 반도체\"\n",
    "\n",
    "url = naver_search_url + search_word\n",
    "\n",
    "webbrowser.open_new(url)"
   ]
  },
  {
   "cell_type": "code",
   "execution_count": 8,
   "metadata": {},
   "outputs": [
    {
     "data": {
      "text/plain": [
       "True"
      ]
     },
     "execution_count": 8,
     "metadata": {},
     "output_type": "execute_result"
    }
   ],
   "source": [
    "import webbrowser\n",
    "naver_search_url = \"https://search.naver.com/search.naver?sm=top_hty&fbm=0&ie=utf8&query=\"\n",
    "naver_search_word = \"이천 반도체\"\n",
    "\n",
    "daum_search_url = \"https://search.daum.net/search?w=tot&DA=YZR&t__nil_searchbox=btn&sug=&sugo=&q=\"\n",
    "daum_search_world = \"이천 쌀\"\n",
    "\n",
    "url1 = naver_search_url + naver_search_word\n",
    "url2 = daum_search_url + daum_search_world\n",
    "\n",
    "webbrowser.open_new(url1)\n",
    "webbrowser.open_new(url2)"
   ]
  },
  {
   "cell_type": "code",
   "execution_count": 12,
   "metadata": {},
   "outputs": [
    {
     "data": {
      "text/plain": [
       "True"
      ]
     },
     "execution_count": 12,
     "metadata": {},
     "output_type": "execute_result"
    }
   ],
   "source": [
    "import webbrowser\n",
    "naver_search_url = \"https://search.naver.com/search.naver?sm=top_hty&fbm=0&ie=utf8&query=\"\n",
    "naver_search_word = \"이천 반도체\"\n",
    "\n",
    "daum_search_url = \"https://search.daum.net/search?w=tot&DA=YZR&t__nil_searchbox=btn&sug=&sugo=&q=\"\n",
    "daum_search_world = \"이천 쌀\"\n",
    "\n",
    "nate_search_url = \"https://search.daum.net/nate?thr=sbma&w=tot&q=\"\n",
    "nate_search_word = \"이천 도자기\"\n",
    "\n",
    "google_search_url = \"www.google.com/#q=\"\n",
    "google_search_word = \"이천 복숭아\"\n",
    "\n",
    "url1 = naver_search_url + naver_search_word\n",
    "url2 = daum_search_url + daum_search_world\n",
    "url3 = nate_search_url + nate_search_word\n",
    "url4 = google_search_url + google_search_word\n",
    "\n",
    "webbrowser.open_new(url1)\n",
    "webbrowser.open_new(url2)\n",
    "webbrowser.open_new(url3)\n",
    "webbrowser.open_new(url4)"
   ]
  },
  {
   "cell_type": "code",
   "execution_count": 13,
   "metadata": {},
   "outputs": [],
   "source": [
    "import webbrowser  \n",
    "naver_search_url = \"https://search.naver.com/search.naver?sm=top_hty&fbm=0&ie=utf8&query=\"  \n",
    "naver_search_words = ['이천 반도체', '이천 쌀', '이천 도자기', '이천 복숭아']  \n",
    "for search in naver_search_words :  \n",
    "    webbrowser.open_new(naver_search_url + search)  "
   ]
  },
  {
   "cell_type": "code",
   "execution_count": 14,
   "metadata": {},
   "outputs": [],
   "source": [
    "import webbrowser  \n",
    "\n",
    "urls = ['www.naver.com', 'www.daum.net', 'www.nate.com']  \n",
    "for url in urls: \n",
    "    webbrowser.open_new(url)"
   ]
  },
  {
   "cell_type": "code",
   "execution_count": 16,
   "metadata": {},
   "outputs": [],
   "source": [
    "import webbrowser  \n",
    "\n",
    "urls = ['https://search.naver.com/search.naver?sm=top_hty&fbm=0&ie=utf8&query=', 'https://search.daum.net/search?w=tot&DA=YZR&t__nil_searchbox=btn&sug=&sugo=&q=', 'https://search.daum.net/nate?thr=sbma&w=tot&q='] \n",
    "keywords = ['이천 반도체', '이천 쌀', '이천 도자기', '이천 복숭아']\n",
    "for url in urls: \n",
    "    for key in keywords:\n",
    "        webbrowser.open_new(url + key)"
   ]
  },
  {
   "cell_type": "code",
   "execution_count": 22,
   "metadata": {},
   "outputs": [],
   "source": [
    "import webbrowser  \n",
    "\n",
    "urls = ['https://search.naver.com/search.naver?sm=top_hty&fbm=0&ie=utf8&query=', \n",
    "        'https://search.daum.net/search?w=tot&DA=YZR&t__nil_searchbox=btn&sug=&sugo=&q=', \n",
    "        'https://search.daum.net/nate?thr=sbma&w=tot&q=',\n",
    "        'www.google.com/#q=']\n",
    "search_words = ['이천 반도체', '이천 쌀', '이천 도자기', '이천 복숭아']\n",
    "\n",
    "i = 0\n",
    "for url in urls:\n",
    "    for word in search_words:\n",
    "        if search_words[i] == word:\n",
    "            webbrowser.open_new(url + word)\n",
    "    i += 1\n"
   ]
  },
  {
   "cell_type": "markdown",
   "metadata": {},
   "source": [
    "# 이거슨 마크다운"
   ]
  }
 ],
 "metadata": {
  "kernelspec": {
   "display_name": "Python 3",
   "language": "python",
   "name": "python3"
  },
  "language_info": {
   "codemirror_mode": {
    "name": "ipython",
    "version": 3
   },
   "file_extension": ".py",
   "mimetype": "text/x-python",
   "name": "python",
   "nbconvert_exporter": "python",
   "pygments_lexer": "ipython3",
   "version": "3.7.4"
  }
 },
 "nbformat": 4,
 "nbformat_minor": 2
}
