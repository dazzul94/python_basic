{
 "cells": [
  {
   "cell_type": "markdown",
   "metadata": {},
   "source": [
    "### - 사용자>jupyter>config 파일이 없음\n",
    "~~~\n",
    "cmd> jupyter notebook --generate-config\n",
    "~~~\n",
    "C:\\Users\\dazzul\\.jupyter 경로에 jupyter_notebook_config.py이 생긴다.  \n",
    "\n",
    "\n",
    "1. 브라우저 자동 실행하는것 끄는 방법(False이면 자동실행을 끈다.)  \n",
    "c.NotebookApp.open_browser = True\n",
    "2. default를 크롬으로 설정  \n",
    "c.NotebookApp.browser = 'u'chrome''\n",
    "\n",
    "### - 구글 클라우드 사이트 접속\n",
    "https://cloud.google.com/maps-platform/\n",
    "\n",
    "### - 시작하기\n",
    "1. 경로 선택\n",
    "2. 프로젝트 이름 설정\n",
    "3. 결제\n",
    "\n",
    "### - API 키 제한 \n",
    "- 새로운 키를 만들고 키를 제한할 수 있다.\n",
    "\n",
    "### - API 추가\n",
    "- Geocoding API(지도API)"
   ]
  },
  {
   "cell_type": "markdown",
   "metadata": {},
   "source": [
    "###- jupyter notebook에서 cmd명령을 실행하려면 느낌표를 붙인다.\n",
    "- numpy : 수학통계\n",
    "- pandas: 파일분석"
   ]
  },
  {
   "cell_type": "code",
   "execution_count": 1,
   "metadata": {},
   "outputs": [
    {
     "name": "stdout",
     "output_type": "stream",
     "text": [
      "Requirement already satisfied: numpy in c:\\users\\dazzul\\appdata\\local\\programs\\python\\python37\\lib\\site-packages (1.17.2)\n"
     ]
    }
   ],
   "source": [
    "!pip install numpy"
   ]
  },
  {
   "cell_type": "code",
   "execution_count": 3,
   "metadata": {},
   "outputs": [
    {
     "name": "stdout",
     "output_type": "stream",
     "text": [
      "Requirement already satisfied: pandas in c:\\users\\dazzul\\appdata\\local\\programs\\python\\python37\\lib\\site-packages (0.25.1)\n",
      "Requirement already satisfied: numpy>=1.13.3 in c:\\users\\dazzul\\appdata\\local\\programs\\python\\python37\\lib\\site-packages (from pandas) (1.17.2)\n",
      "Requirement already satisfied: python-dateutil>=2.6.1 in c:\\users\\dazzul\\appdata\\local\\programs\\python\\python37\\lib\\site-packages (from pandas) (2.8.0)\n",
      "Requirement already satisfied: pytz>=2017.2 in c:\\users\\dazzul\\appdata\\local\\programs\\python\\python37\\lib\\site-packages (from pandas) (2019.2)\n",
      "Requirement already satisfied: six>=1.5 in c:\\users\\dazzul\\appdata\\local\\programs\\python\\python37\\lib\\site-packages (from python-dateutil>=2.6.1->pandas) (1.12.0)\n"
     ]
    }
   ],
   "source": [
    "!pip install pandas"
   ]
  },
  {
   "cell_type": "code",
   "execution_count": 4,
   "metadata": {},
   "outputs": [],
   "source": [
    "import numpy as np\n",
    "import pandas as pd"
   ]
  },
  {
   "cell_type": "code",
   "execution_count": 6,
   "metadata": {},
   "outputs": [
    {
     "data": {
      "text/html": [
       "<div>\n",
       "<style scoped>\n",
       "    .dataframe tbody tr th:only-of-type {\n",
       "        vertical-align: middle;\n",
       "    }\n",
       "\n",
       "    .dataframe tbody tr th {\n",
       "        vertical-align: top;\n",
       "    }\n",
       "\n",
       "    .dataframe thead th {\n",
       "        text-align: right;\n",
       "    }\n",
       "</style>\n",
       "<table border=\"1\" class=\"dataframe\">\n",
       "  <thead>\n",
       "    <tr style=\"text-align: right;\">\n",
       "      <th></th>\n",
       "      <th>관서명</th>\n",
       "      <th>살인 발생</th>\n",
       "      <th>살인 검거</th>\n",
       "      <th>강도 발생</th>\n",
       "      <th>강도 검거</th>\n",
       "      <th>강간 발생</th>\n",
       "      <th>강간 검거</th>\n",
       "      <th>절도 발생</th>\n",
       "      <th>절도 검거</th>\n",
       "      <th>폭력 발생</th>\n",
       "      <th>폭력 검거</th>\n",
       "    </tr>\n",
       "  </thead>\n",
       "  <tbody>\n",
       "    <tr>\n",
       "      <td>0</td>\n",
       "      <td>중부서</td>\n",
       "      <td>2</td>\n",
       "      <td>2</td>\n",
       "      <td>3</td>\n",
       "      <td>2</td>\n",
       "      <td>105</td>\n",
       "      <td>65</td>\n",
       "      <td>1,395</td>\n",
       "      <td>477</td>\n",
       "      <td>1,355</td>\n",
       "      <td>1,170</td>\n",
       "    </tr>\n",
       "    <tr>\n",
       "      <td>1</td>\n",
       "      <td>종로서</td>\n",
       "      <td>3</td>\n",
       "      <td>3</td>\n",
       "      <td>6</td>\n",
       "      <td>5</td>\n",
       "      <td>115</td>\n",
       "      <td>98</td>\n",
       "      <td>1,070</td>\n",
       "      <td>413</td>\n",
       "      <td>1,278</td>\n",
       "      <td>1,070</td>\n",
       "    </tr>\n",
       "    <tr>\n",
       "      <td>2</td>\n",
       "      <td>남대문서</td>\n",
       "      <td>1</td>\n",
       "      <td>0</td>\n",
       "      <td>6</td>\n",
       "      <td>4</td>\n",
       "      <td>65</td>\n",
       "      <td>46</td>\n",
       "      <td>1,153</td>\n",
       "      <td>382</td>\n",
       "      <td>869</td>\n",
       "      <td>794</td>\n",
       "    </tr>\n",
       "    <tr>\n",
       "      <td>3</td>\n",
       "      <td>서대문서</td>\n",
       "      <td>2</td>\n",
       "      <td>2</td>\n",
       "      <td>5</td>\n",
       "      <td>4</td>\n",
       "      <td>154</td>\n",
       "      <td>124</td>\n",
       "      <td>1,812</td>\n",
       "      <td>738</td>\n",
       "      <td>2,056</td>\n",
       "      <td>1,711</td>\n",
       "    </tr>\n",
       "    <tr>\n",
       "      <td>4</td>\n",
       "      <td>혜화서</td>\n",
       "      <td>3</td>\n",
       "      <td>2</td>\n",
       "      <td>5</td>\n",
       "      <td>4</td>\n",
       "      <td>96</td>\n",
       "      <td>63</td>\n",
       "      <td>1,114</td>\n",
       "      <td>424</td>\n",
       "      <td>1,015</td>\n",
       "      <td>861</td>\n",
       "    </tr>\n",
       "  </tbody>\n",
       "</table>\n",
       "</div>"
      ],
      "text/plain": [
       "    관서명  살인 발생  살인 검거  강도 발생  강도 검거  강간 발생  강간 검거  절도 발생 절도 검거  폭력 발생  폭력 검거\n",
       "0   중부서      2      2      3      2    105     65  1,395   477  1,355  1,170\n",
       "1   종로서      3      3      6      5    115     98  1,070   413  1,278  1,070\n",
       "2  남대문서      1      0      6      4     65     46  1,153   382    869    794\n",
       "3  서대문서      2      2      5      4    154    124  1,812   738  2,056  1,711\n",
       "4   혜화서      3      2      5      4     96     63  1,114   424  1,015    861"
      ]
     },
     "execution_count": 6,
     "metadata": {},
     "output_type": "execute_result"
    }
   ],
   "source": [
    "criminal_police = pd.read_csv('data/02. crime_in_Seoul.csv', thousands='.', encoding='euc-kr')\n",
    "criminal_police.head()"
   ]
  },
  {
   "cell_type": "code",
   "execution_count": 7,
   "metadata": {},
   "outputs": [
    {
     "name": "stdout",
     "output_type": "stream",
     "text": [
      "Collecting googlemaps\n",
      "  Downloading https://files.pythonhosted.org/packages/9b/33/b93685916130c07325645d06a765dae23f4655b7aeb79c8a96fe9f552e26/googlemaps-3.1.3-py3-none-any.whl\n",
      "Collecting requests<3.0,>=2.20.0 (from googlemaps)\n",
      "  Downloading https://files.pythonhosted.org/packages/51/bd/23c926cd341ea6b7dd0b2a00aba99ae0f828be89d72b2190f27c11d4b7fb/requests-2.22.0-py2.py3-none-any.whl (57kB)\n",
      "Collecting idna<2.9,>=2.5 (from requests<3.0,>=2.20.0->googlemaps)\n",
      "  Downloading https://files.pythonhosted.org/packages/14/2c/cd551d81dbe15200be1cf41cd03869a46fe7226e7450af7a6545bfc474c9/idna-2.8-py2.py3-none-any.whl (58kB)\n",
      "Collecting certifi>=2017.4.17 (from requests<3.0,>=2.20.0->googlemaps)\n",
      "  Downloading https://files.pythonhosted.org/packages/18/b0/8146a4f8dd402f60744fa380bc73ca47303cccf8b9190fd16a827281eac2/certifi-2019.9.11-py2.py3-none-any.whl (154kB)\n",
      "Collecting urllib3!=1.25.0,!=1.25.1,<1.26,>=1.21.1 (from requests<3.0,>=2.20.0->googlemaps)\n",
      "  Downloading https://files.pythonhosted.org/packages/81/b7/cef47224900ca67078ed6e2db51342796007433ad38329558f56a15255f5/urllib3-1.25.5-py2.py3-none-any.whl (125kB)\n",
      "Requirement already satisfied: chardet<3.1.0,>=3.0.2 in c:\\users\\dazzul\\appdata\\local\\programs\\python\\python37\\lib\\site-packages (from requests<3.0,>=2.20.0->googlemaps) (3.0.4)\n",
      "Installing collected packages: idna, certifi, urllib3, requests, googlemaps\n",
      "Successfully installed certifi-2019.9.11 googlemaps-3.1.3 idna-2.8 requests-2.22.0 urllib3-1.25.5\n"
     ]
    }
   ],
   "source": [
    "!pip install googlemaps"
   ]
  },
  {
   "cell_type": "code",
   "execution_count": 9,
   "metadata": {},
   "outputs": [],
   "source": [
    "import googlemaps\n",
    "gmaps_key = \"API키입력\"\n",
    "gmaps = googlemaps.Client(key=gmaps_key)"
   ]
  },
  {
   "cell_type": "code",
   "execution_count": 10,
   "metadata": {},
   "outputs": [
    {
     "data": {
      "text/plain": [
       "[{'address_components': [{'long_name': '평양',\n",
       "    'short_name': '평양',\n",
       "    'types': ['locality', 'political']},\n",
       "   {'long_name': '평양 직할시',\n",
       "    'short_name': '평양',\n",
       "    'types': ['administrative_area_level_1', 'political']},\n",
       "   {'long_name': '조선민주주의인민공화국',\n",
       "    'short_name': 'KP',\n",
       "    'types': ['country', 'political']}],\n",
       "  'formatted_address': '조선민주주의인민공화국 평양 직할시 평양',\n",
       "  'geometry': {'bounds': {'northeast': {'lat': 39.1064777, 'lng': 125.893327},\n",
       "    'southwest': {'lat': 38.9517987, 'lng': 125.5908966}},\n",
       "   'location': {'lat': 39.0392193, 'lng': 125.7625241},\n",
       "   'location_type': 'APPROXIMATE',\n",
       "   'viewport': {'northeast': {'lat': 39.1064777, 'lng': 125.893327},\n",
       "    'southwest': {'lat': 38.9517987, 'lng': 125.5908966}}},\n",
       "  'place_id': 'ChIJN0NP5toCfjURlapxF-J3BtQ',\n",
       "  'types': ['locality', 'political']}]"
      ]
     },
     "execution_count": 10,
     "metadata": {},
     "output_type": "execute_result"
    }
   ],
   "source": [
    "gmaps.geocode('평양', language = 'ko')"
   ]
  },
  {
   "cell_type": "code",
   "execution_count": 11,
   "metadata": {},
   "outputs": [
    {
     "data": {
      "text/plain": [
       "[{'address_components': [{'long_name': 'Yongin-si',\n",
       "    'short_name': 'Yongin-si',\n",
       "    'types': ['locality', 'political']},\n",
       "   {'long_name': 'Gyeonggi-do',\n",
       "    'short_name': 'Gyeonggi-do',\n",
       "    'types': ['administrative_area_level_1', 'political']},\n",
       "   {'long_name': 'South Korea',\n",
       "    'short_name': 'KR',\n",
       "    'types': ['country', 'political']}],\n",
       "  'formatted_address': 'Yongin-si, Gyeonggi-do, South Korea',\n",
       "  'geometry': {'bounds': {'northeast': {'lat': 37.3719913, 'lng': 127.4270873},\n",
       "    'southwest': {'lat': 37.0830073, 'lng': 127.0159523}},\n",
       "   'location': {'lat': 37.2410864, 'lng': 127.1775537},\n",
       "   'location_type': 'APPROXIMATE',\n",
       "   'viewport': {'northeast': {'lat': 37.3375, 'lng': 127.2263},\n",
       "    'southwest': {'lat': 37.2304, 'lng': 127.0663}}},\n",
       "  'place_id': 'ChIJ9TPOaj1SezUR-7VRGXA1Mp0',\n",
       "  'types': ['locality', 'political']}]"
      ]
     },
     "execution_count": 11,
     "metadata": {},
     "output_type": "execute_result"
    }
   ],
   "source": [
    "gmaps.geocode('용인', language = 'en')"
   ]
  },
  {
   "cell_type": "code",
   "execution_count": 13,
   "metadata": {},
   "outputs": [
    {
     "data": {
      "text/plain": [
       "['서울중부경찰서',\n",
       " '서울종로경찰서',\n",
       " '서울남대문경찰서',\n",
       " '서울서대문경찰서',\n",
       " '서울혜화경찰서',\n",
       " '서울용산경찰서',\n",
       " '서울성북경찰서',\n",
       " '서울동대문경찰서',\n",
       " '서울마포경찰서',\n",
       " '서울영등포경찰서',\n",
       " '서울성동경찰서',\n",
       " '서울동작경찰서',\n",
       " '서울광진경찰서',\n",
       " '서울서부경찰서',\n",
       " '서울강북경찰서',\n",
       " '서울금천경찰서',\n",
       " '서울중랑경찰서',\n",
       " '서울강남경찰서',\n",
       " '서울관악경찰서',\n",
       " '서울강서경찰서',\n",
       " '서울강동경찰서',\n",
       " '서울종암경찰서',\n",
       " '서울구로경찰서',\n",
       " '서울서초경찰서',\n",
       " '서울양천경찰서',\n",
       " '서울송파경찰서',\n",
       " '서울노원경찰서',\n",
       " '서울방배경찰서',\n",
       " '서울은평경찰서',\n",
       " '서울도봉경찰서',\n",
       " '서울수서경찰서']"
      ]
     },
     "execution_count": 13,
     "metadata": {},
     "output_type": "execute_result"
    }
   ],
   "source": [
    "station_name = []\n",
    "for name in criminal_police['관서명']:\n",
    "    station_name.append('서울' + str(name[:-1]) + '경찰서')\n",
    "station_name"
   ]
  },
  {
   "cell_type": "code",
   "execution_count": 17,
   "metadata": {},
   "outputs": [
    {
     "name": "stdout",
     "output_type": "stream",
     "text": [
      "서울중부경찰서-->대한민국 서울특별시 중구 을지로동 수표로 27\n",
      "서울종로경찰서-->대한민국 서울특별시 종로구 종로1.2.3.4가동 율곡로 46\n",
      "서울남대문경찰서-->대한민국 서울특별시 중구 회현동 한강대로 410\n",
      "서울서대문경찰서-->대한민국 서울특별시 서대문구 충현동 통일로 113\n",
      "서울혜화경찰서-->대한민국 서울특별시 종로구 인의동 창경궁로 112-16\n",
      "서울용산경찰서-->대한민국 서울특별시 용산구 원효로1가 백범로 329\n",
      "서울성북경찰서-->대한민국 서울특별시 성북구 삼선동5가 301\n",
      "서울동대문경찰서-->대한민국 서울특별시 동대문구 청량리동 약령시로21길 29\n",
      "서울마포경찰서-->대한민국 서울특별시 마포구 아현동 618-1\n",
      "서울영등포경찰서-->대한민국 서울특별시 영등포구 영등포동 영등포로46길 14\n",
      "서울성동경찰서-->대한민국 서울특별시 성동구 행당동 왕십리광장로 9\n",
      "서울동작경찰서-->대한민국 서울특별시 동작구 노량진1동 노량진로 148\n",
      "서울광진경찰서-->대한민국 서울특별시 광진구 구의동 자양로 167\n",
      "서울서부경찰서-->대한민국 서울특별시 은평구 대조동 통일로 757\n",
      "서울강북경찰서-->대한민국 서울특별시 강북구 번1동 오패산로 406\n",
      "서울금천경찰서-->대한민국 서울특별시 금천구 시흥동 190\n",
      "서울중랑경찰서-->대한민국 서울특별시 중랑구 신내1동 신내역로3길 40-10\n",
      "서울강남경찰서-->대한민국 서울특별시 강남구 대치동 998\n",
      "서울관악경찰서-->대한민국 서울특별시 관악구 봉천동\n",
      "서울강서경찰서-->대한민국 서울특별시 양천구 신월동 화곡로 73\n",
      "서울강동경찰서-->대한민국 서울특별시 강동구 성내1동 성내로 57\n",
      "서울종암경찰서-->대한민국 서울특별시 성북구 종암동 종암로 135\n",
      "서울구로경찰서-->대한민국 서울특별시 구로구 가마산로 235\n",
      "서울서초경찰서-->대한민국 서울특별시 서초구 서초3동 반포대로 179\n",
      "서울양천경찰서-->대한민국 서울특별시 양천구 신정6동 목동동로 99\n",
      "서울송파경찰서-->대한민국 서울특별시 송파구 가락본동 9\n",
      "서울노원경찰서-->대한민국 서울특별시 노원구 하계동 노원로 283\n",
      "서울방배경찰서-->대한민국 서울특별시 서초구 방배본동 동작대로 204\n",
      "서울은평경찰서-->대한민국 서울특별시 은평구 불광동 연서로 365\n",
      "서울도봉경찰서-->대한민국 서울특별시 도봉구 창4동 노해로 403\n",
      "서울수서경찰서-->대한민국 서울특별시 강남구 개포동 개포로 617\n"
     ]
    }
   ],
   "source": [
    "station_address = [] #주소\n",
    "station_lat = [] #위도\n",
    "station_lng = [] #경도\n",
    "\n",
    "for name in station_name:\n",
    "    tmp = gmaps.geocode(name, language = 'ko')\n",
    "    station_address.append(tmp[0].get(\"formatted_address\"))\n",
    "    \n",
    "    tmp_loc = tmp[0].get(\"geometry\")\n",
    "    \n",
    "    station_lat.append(tmp_loc['location']['lat'])\n",
    "    station_lng.append(tmp_loc['location']['lng'])\n",
    "    \n",
    "    print(name + '-->' + tmp[0].get(\"formatted_address\"))"
   ]
  },
  {
   "cell_type": "code",
   "execution_count": null,
   "metadata": {},
   "outputs": [],
   "source": []
  }
 ],
 "metadata": {
  "kernelspec": {
   "display_name": "Python 3",
   "language": "python",
   "name": "python3"
  },
  "language_info": {
   "codemirror_mode": {
    "name": "ipython",
    "version": 3
   },
   "file_extension": ".py",
   "mimetype": "text/x-python",
   "name": "python",
   "nbconvert_exporter": "python",
   "pygments_lexer": "ipython3",
   "version": "3.7.4"
  }
 },
 "nbformat": 4,
 "nbformat_minor": 2
}
