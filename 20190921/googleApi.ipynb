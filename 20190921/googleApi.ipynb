{
 "cells": [
  {
   "cell_type": "markdown",
   "metadata": {},
   "source": [
    "### - 사용자>jupyter>config 파일이 없음\n",
    "~~~\n",
    "cmd> jupyter notebook --generate-config\n",
    "~~~\n",
    "C:\\Users\\dazzul\\.jupyter 경로에 jupyter_notebook_config.py이 생긴다.  \n",
    "\n",
    "\n",
    "1. 브라우저 자동 실행하는것 끄는 방법(False이면 자동실행을 끈다.)  \n",
    "c.NotebookApp.open_browser = True\n",
    "2. default를 크롬으로 설정  \n",
    "c.NotebookApp.browser = 'u'chrome''\n",
    "\n",
    "### - 구글 클라우드 사이트 접속\n",
    "https://cloud.google.com/maps-platform/\n",
    "\n",
    "### - "
   ]
  },
  {
   "cell_type": "code",
   "execution_count": null,
   "metadata": {},
   "outputs": [],
   "source": []
  }
 ],
 "metadata": {
  "kernelspec": {
   "display_name": "Python 3",
   "language": "python",
   "name": "python3"
  },
  "language_info": {
   "codemirror_mode": {
    "name": "ipython",
    "version": 3
   },
   "file_extension": ".py",
   "mimetype": "text/x-python",
   "name": "python",
   "nbconvert_exporter": "python",
   "pygments_lexer": "ipython3",
   "version": "3.7.4"
  }
 },
 "nbformat": 4,
 "nbformat_minor": 2
}
